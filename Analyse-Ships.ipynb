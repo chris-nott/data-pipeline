{
 "cells": [
  {
   "cell_type": "markdown",
   "metadata": {},
   "source": [
    "Credentials to connect to the Cloudant database that holds the AIS data collected by Node-RED. You can generate a set of credentials for cloudant host, username and password from the IBM Cloud -> Data & Analytics -> Service Credentials tab. Or simply get DSX to generate the code for you from the Catalog service in the Watson Data Platform. (Check the url.)"
   ]
  },
  {
   "cell_type": "code",
   "execution_count": 12,
   "metadata": {},
   "outputs": [],
   "source": [
    "# @hidden_cell\n",
    "credentials_1 = {\n",
    "  'password':\"<enter>\",\n",
    "  'custom_url':'<enter>',\n",
    "  'username':'<enter>'\n",
    "}"
   ]
  },
  {
   "cell_type": "markdown",
   "metadata": {},
   "source": [
    "Create an Apache Spark session to work with."
   ]
  },
  {
   "cell_type": "code",
   "execution_count": 13,
   "metadata": {},
   "outputs": [],
   "source": [
    "from pyspark.sql import SparkSession\n",
    "spark = SparkSession.builder.getOrCreate()"
   ]
  },
  {
   "cell_type": "markdown",
   "metadata": {},
   "source": [
    "We can now import the AIS data received into a Node-RED flow and stored in Cloudant into a Spark database for bulk analysis."
   ]
  },
  {
   "cell_type": "code",
   "execution_count": 14,
   "metadata": {},
   "outputs": [],
   "source": [
    "cloudantdata = spark.read.format(\"org.apache.bahir.cloudant\")\\\n",
    ".option(\"cloudant.host\",credentials_1['custom_url'])\\\n",
    ".option(\"cloudant.username\", credentials_1['username'])\\\n",
    ".option(\"cloudant.password\",credentials_1['password'])\\\n",
    ".option(\"jsonstore.rdd.partitions\",'5')\\\n",
    ".load(\"ships\")"
   ]
  },
  {
   "cell_type": "markdown",
   "metadata": {},
   "source": [
    "Let's just check that the data has come across OK by checking the schema that the import has automatically chosen for us..."
   ]
  },
  {
   "cell_type": "code",
   "execution_count": 15,
   "metadata": {},
   "outputs": [
    {
     "data": {
      "text/plain": [
       "<bound method DataFrame.printSchema of DataFrame[_id: string, _rev: string, bearing: bigint, callsign: string, destination: string, icon: string, iconColor: string, lat: double, layer: string, lon: double, name: string, payload: string, qos: bigint, retain: boolean, speed: double, topic: string, type: string, typeno: bigint]>"
      ]
     },
     "execution_count": 15,
     "metadata": {},
     "output_type": "execute_result"
    }
   ],
   "source": [
    "cloudantdata.printSchema"
   ]
  },
  {
   "cell_type": "markdown",
   "metadata": {},
   "source": [
    "Now the data is in Apache Spark, we can count the number of instances very quickly:"
   ]
  },
  {
   "cell_type": "code",
   "execution_count": 16,
   "metadata": {},
   "outputs": [
    {
     "data": {
      "text/plain": [
       "2269"
      ]
     },
     "execution_count": 16,
     "metadata": {},
     "output_type": "execute_result"
    }
   ],
   "source": [
    "cloudantdata.count()"
   ]
  },
  {
   "cell_type": "markdown",
   "metadata": {},
   "source": [
    "Let's look at the top three rows of data (json documents)."
   ]
  },
  {
   "cell_type": "code",
   "execution_count": 17,
   "metadata": {},
   "outputs": [
    {
     "data": {
      "text/plain": [
       "[Row(_id=u'03f9abf4770237eecf87f96445080109', _rev=u'1-7cfbfd1ef915d03b8d6566ec5000bb67', bearing=None, callsign=u'', destination=u'', icon=u'ship', iconColor=u'beige', lat=51.2748, layer=u'navigaton', lon=1.871, name=u'Inter Bank', payload=u'{\"speed\":\"\"}', qos=0, retain=False, speed=None, topic=u'some/test/feed', type=u'RACON', typeno=102),\n",
       " Row(_id=u'03f9abf4770237eecf87f9644508103d', _rev=u'1-5d898ed131e4f7448fba55669147bf85', bearing=None, callsign=u'', destination=u'', icon=u'ship', iconColor=u'beige', lat=51.3233, layer=u'navigaton', lon=1.4527, name=u'Ramsgate \\nChannel No. 2', payload=u'{\"speed\":\"\"}', qos=0, retain=False, speed=None, topic=u'some/test/feed', type=u'Port hand Mark', typeno=124),\n",
       " Row(_id=u'03f9abf4770237eecf87f9644508174e', _rev=u'1-b69e61a56e04d5aa7c2086a1465f3f44', bearing=None, callsign=u'', destination=u'', icon=u'ship', iconColor=u'beige', lat=50.7247, layer=u'navigaton', lon=1.3145, name=u'Ridens SE', payload=u'{\"speed\":\"\"}', qos=0, retain=False, speed=None, topic=u'some/test/feed', type=u'Cardinal Mark E', typeno=121)]"
      ]
     },
     "execution_count": 17,
     "metadata": {},
     "output_type": "execute_result"
    }
   ],
   "source": [
    "cloudantdata.head(3)"
   ]
  },
  {
   "cell_type": "markdown",
   "metadata": {},
   "source": [
    "Now we create a subset of the dataframe, taking the lat and lon coordinates of ships's positions."
   ]
  },
  {
   "cell_type": "code",
   "execution_count": 18,
   "metadata": {},
   "outputs": [
    {
     "name": "stdout",
     "output_type": "stream",
     "text": [
      "+-------+------+\n",
      "|    lat|   lon|\n",
      "+-------+------+\n",
      "|51.2748| 1.871|\n",
      "|51.3233|1.4527|\n",
      "|50.7247|1.3145|\n",
      "|50.5777|1.2262|\n",
      "+-------+------+\n",
      "only showing top 4 rows\n",
      "\n"
     ]
    }
   ],
   "source": [
    "shipCoords = cloudantdata.select('lat','lon')\n",
    "shipCoords.show(4)"
   ]
  },
  {
   "cell_type": "markdown",
   "metadata": {},
   "source": [
    "By converting this lat/lon dataframe to a pandas dataframe, we can manipulate the data set more easily because of a wider range of available functions.  We ensure that the lat and lon data values are all floats, and records for which either value throws an error are discarded.  The final function converts the dataframe into an array format."
   ]
  },
  {
   "cell_type": "code",
   "execution_count": 9,
   "metadata": {},
   "outputs": [
    {
     "data": {
      "text/plain": [
       "array([[51.2748,  1.871 ],\n",
       "       [51.3233,  1.4527],\n",
       "       [50.7247,  1.3145],\n",
       "       ...,\n",
       "       [51.455 ,  2.623 ],\n",
       "       [51.273 ,  3.846 ],\n",
       "       [51.303 ,  2.659 ]])"
      ]
     },
     "execution_count": 9,
     "metadata": {},
     "output_type": "execute_result"
    }
   ],
   "source": [
    "import pandas as pd\n",
    "pd_df = shipCoords.toPandas()\n",
    "pd_df.apply(lambda x: pd.to_numeric(x, errors='coerce')).dropna()\n",
    "pd_df.as_matrix()"
   ]
  },
  {
   "cell_type": "markdown",
   "metadata": {},
   "source": [
    "Iterate through the dataframe to build an list of ship coordinates.  Take the first 100 positions so that we don't obliterate the grid we shall display them on."
   ]
  },
  {
   "cell_type": "code",
   "execution_count": 10,
   "metadata": {},
   "outputs": [
    {
     "name": "stdout",
     "output_type": "stream",
     "text": [
      "[[51.2748, 1.871], [51.3233, 1.4527], [50.7247, 1.3145], [50.5777, 1.2262], [50.863, -1.312], [50.891, -1.4], [50.791, -1.106], [50.757, -1.531], [50.739, -1.149], [50.881, -1.299], [50.835, -1.323], [50.701, -1.032], [51.559, 2.954], [51.036, 1.938], [50.974, 2.282], [51.687, 3.304], [51.949, 4.063], [50.964, 1.853], [51.53, 2.28], [51.375, 3.108], [51.743, 3.89], [51.488, 3.396], [51.338, 3.207], [51.298, 1.921], [51.551, 1.797], [51.045, 2.009], [50.969, 1.228], [51.041, 2.37], [50.999, 2.263], [51.328, 1.42], [51.336, 3.19], [51.043, 2.359], [51.383, 1.921], [51.718, 3.248], [51.356, 3.898], [51.442, 2.201], [51.073, 1.765], [51.333, 3.136], [51.8, 3.342], [51.062, 1.216], [51.407, 2.049], [51.33, 1.421], [51.311, 3.223], [51.06, 1.542], [51.33, 1.422], [50.8673, 1.0367], [51.1873, 1.7487], [51.1417, 1.4813], [51.3236, 1.4353], [51.3233, 1.4527], [51.4055, 1.6187], [50.7498, 1.4541], [50.756, -1.531], [50.624, -1.047], [50.712, -1.988], [50.137, -1.101], [50.909, -1.381], [50.881, -1.299], [50.799, -1.119], [50.861, -1.311], [50.882, -1.3], [50.339, -2.024], [50.812, -1.205], [50.752, -1.528], [50.89, -1.401], [50.91, -1.464], [50.86, -1.312], [50.768, -1.299], [50.8, -1.11], [50.906, -1.432], [50.89, -1.396], [50.834, -1.318], [50.792, -1.115], [50.757, -1.531], [50.751, -1.529], [50.89, -1.396], [50.797, -1.109], [50.886, -1.391], [51.242, 2.92], [51.695, 2.817], [51.056, 2.339], [51.028, 2.268], [51.84, 3.401], [51.406, 2.62], [51.396, 3.107], [51.435, 3.395], [51.877, 3.429], [51.953, 3.39], [50.957, 1.39], [51.68, 2.298], [51.407, 2.651], [51.974, 4.036], [51.534, 2.96], [51.352, 3.2], [51.594, 3.885], [51.127, 1.342], [51.04, 2.361], [51.938, 3.184], [51.423, 2.853], [51.33, 2.564]]\n"
     ]
    }
   ],
   "source": [
    "positions = []\n",
    "for index, row in pd_df.iterrows():\n",
    "    positions.append([row[0],row[1]])\n",
    "\n",
    "positions = positions[0:100]\n",
    "print positions"
   ]
  },
  {
   "cell_type": "markdown",
   "metadata": {},
   "source": [
    "Display the ship positions on a graph."
   ]
  },
  {
   "cell_type": "code",
   "execution_count": 11,
   "metadata": {},
   "outputs": [
    {
     "data": {
      "image/png": "[encoded data removed]",
      "text/plain": [
       "<matplotlib.figure.Figure at 0x7f7b60b5a4d0>"
      ]
     },
     "metadata": {},
     "output_type": "display_data"
    }
   ],
   "source": [
    "import matplotlib.pyplot as plt\n",
    "\n",
    "for point in positions:\n",
    "    plt.scatter(point[0],point[1])\n",
    "\n",
    "plt.show()"
   ]
  },
  {
   "cell_type": "code",
   "execution_count": null,
   "metadata": {},
   "outputs": [],
   "source": []
  }
 ],
 "metadata": {
  "kernelspec": {
   "display_name": "Python 2 with Spark 2.1",
   "language": "python",
   "name": "python2-spark21"
  },
  "language_info": {
   "codemirror_mode": {
    "name": "ipython",
    "version": 2
   },
   "file_extension": ".py",
   "mimetype": "text/x-python",
   "name": "python",
   "nbconvert_exporter": "python",
   "pygments_lexer": "ipython2",
   "version": "2.7.11"
  }
 },
 "nbformat": 4,
 "nbformat_minor": 1
}
